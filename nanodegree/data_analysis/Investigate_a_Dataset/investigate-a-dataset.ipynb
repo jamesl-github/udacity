{
 "cells": [
  {
   "cell_type": "markdown",
   "metadata": {},
   "source": [
    "> **Tip**: Welcome to the Investigate a Dataset project! You will find tips in quoted sections like this to help organize your approach to your investigation. Before submitting your project, it will be a good idea to go back through your report and remove these sections to make the presentation of your work as tidy as possible. First things first, you might want to double-click this Markdown cell and change the title so that it reflects your dataset and investigation.\n",
    "\n",
    "# Project: Investigate a Dataset (Replace this with something more specific!)\n",
    "\n",
    "## Table of Contents\n",
    "<ul>\n",
    "<li><a href=\"#intro\">Introduction</a></li>\n",
    "<li><a href=\"#wrangling\">Data Wrangling</a></li>\n",
    "<li><a href=\"#eda\">Exploratory Data Analysis</a></li>\n",
    "<li><a href=\"#conclusions\">Conclusions</a></li>\n",
    "</ul>"
   ]
  },
  {
   "cell_type": "markdown",
   "metadata": {},
   "source": [
    "<a id='intro'></a>\n",
    "## Introduction\n",
    "\n",
    "> **Tip**: In this section of the report, provide a brief introduction to the dataset you've selected for analysis. At the end of this section, describe the questions that you plan on exploring over the course of the report. Try to build your report around the analysis of at least one dependent variable and three independent variables.\n",
    ">\n",
    "> If you haven't yet selected and downloaded your data, make sure you do that first before coming back here. If you're not sure what questions to ask right now, then make sure you familiarize yourself with the variables and the dataset context for ideas of what to explore."
   ]
  },
  {
   "cell_type": "code",
   "execution_count": 1,
   "metadata": {},
   "outputs": [],
   "source": [
    "# Use this cell to set up import statements for all of the packages that you\n",
    "#   plan to use.\n",
    "\n",
    "import numpy as np \n",
    "import pandas as pd \n",
    "import matplotlib\n",
    "import matplotlib.pyplot as plt\n",
    "import seaborn as sns\n",
    "\n",
    "from datetime import datetime\n",
    "\n",
    "# this allows us to have multiple outputs in one cell \n",
    "# https://volderette.de/jupyter-notebook-tip-multiple-outputs/\n",
    "from IPython.core.interactiveshell import InteractiveShell\n",
    "InteractiveShell.ast_node_interactivity = \"all\"\n",
    "\n",
    "# Remember to include a 'magic word' so that your visualizations are plotted\n",
    "#   inline with the notebook. See this page for more:\n",
    "#   http://ipython.readthedocs.io/en/stable/interactive/magics.html\n",
    "%matplotlib inline\n",
    "\n",
    "# https://stackoverflow.com/questions/36367986/how-to-make-inline-plots-in-jupyter-notebook-larger\n",
    "plt.rcParams['figure.figsize'] = [8, 8]\n"
   ]
  },
  {
   "cell_type": "code",
   "execution_count": 2,
   "metadata": {},
   "outputs": [],
   "source": [
    "# we will priint certain things only if this is True\n",
    "debugging = True"
   ]
  },
  {
   "cell_type": "markdown",
   "metadata": {},
   "source": [
    "<a id='wrangling'></a>\n",
    "## Data Wrangling\n",
    "\n",
    "> **Tip**: In this section of the report, you will load in the data, check for cleanliness, and then trim and clean your dataset for analysis. Make sure that you document your steps carefully and justify your cleaning decisions.\n",
    "\n",
    "Using the TMDb movie data                              \n",
    "This data set contains information about 10,000 movies collected from The Movie Database (TMDb)          \n",
    "(cleaned from original data on Kaggle - https://www.kaggle.com/tmdb/tmdb-movie-metadata ) \n",
    "\n",
    "### General Properties"
   ]
  },
  {
   "cell_type": "code",
   "execution_count": 3,
   "metadata": {},
   "outputs": [
    {
     "name": "stdout",
     "output_type": "stream",
     "text": [
      "2019-08-04 21:23:28.835988\n",
      "2019-08-04 21:23:28.951740\n"
     ]
    }
   ],
   "source": [
    "print(datetime.now())\n",
    "\n",
    "df = pd.read_csv(\"tmdb-movies.csv\")\n",
    "\n",
    "print(datetime.now())"
   ]
  },
  {
   "cell_type": "code",
   "execution_count": 4,
   "metadata": {},
   "outputs": [
    {
     "name": "stdout",
     "output_type": "stream",
     "text": [
      "2019-08-04 21:23:30.677351\n"
     ]
    },
    {
     "data": {
      "text/html": [
       "<div>\n",
       "<style scoped>\n",
       "    .dataframe tbody tr th:only-of-type {\n",
       "        vertical-align: middle;\n",
       "    }\n",
       "\n",
       "    .dataframe tbody tr th {\n",
       "        vertical-align: top;\n",
       "    }\n",
       "\n",
       "    .dataframe thead th {\n",
       "        text-align: right;\n",
       "    }\n",
       "</style>\n",
       "<table border=\"1\" class=\"dataframe\">\n",
       "  <thead>\n",
       "    <tr style=\"text-align: right;\">\n",
       "      <th></th>\n",
       "      <th>id</th>\n",
       "      <th>imdb_id</th>\n",
       "      <th>popularity</th>\n",
       "      <th>budget</th>\n",
       "      <th>revenue</th>\n",
       "      <th>original_title</th>\n",
       "      <th>cast</th>\n",
       "      <th>homepage</th>\n",
       "      <th>director</th>\n",
       "      <th>tagline</th>\n",
       "      <th>...</th>\n",
       "      <th>overview</th>\n",
       "      <th>runtime</th>\n",
       "      <th>genres</th>\n",
       "      <th>production_companies</th>\n",
       "      <th>release_date</th>\n",
       "      <th>vote_count</th>\n",
       "      <th>vote_average</th>\n",
       "      <th>release_year</th>\n",
       "      <th>budget_adj</th>\n",
       "      <th>revenue_adj</th>\n",
       "    </tr>\n",
       "  </thead>\n",
       "  <tbody>\n",
       "    <tr>\n",
       "      <th>0</th>\n",
       "      <td>135397</td>\n",
       "      <td>tt0369610</td>\n",
       "      <td>32.985763</td>\n",
       "      <td>150000000</td>\n",
       "      <td>1513528810</td>\n",
       "      <td>Jurassic World</td>\n",
       "      <td>Chris Pratt|Bryce Dallas Howard|Irrfan Khan|Vi...</td>\n",
       "      <td>http://www.jurassicworld.com/</td>\n",
       "      <td>Colin Trevorrow</td>\n",
       "      <td>The park is open.</td>\n",
       "      <td>...</td>\n",
       "      <td>Twenty-two years after the events of Jurassic ...</td>\n",
       "      <td>124</td>\n",
       "      <td>Action|Adventure|Science Fiction|Thriller</td>\n",
       "      <td>Universal Studios|Amblin Entertainment|Legenda...</td>\n",
       "      <td>6/9/15</td>\n",
       "      <td>5562</td>\n",
       "      <td>6.5</td>\n",
       "      <td>2015</td>\n",
       "      <td>1.379999e+08</td>\n",
       "      <td>1.392446e+09</td>\n",
       "    </tr>\n",
       "    <tr>\n",
       "      <th>1</th>\n",
       "      <td>76341</td>\n",
       "      <td>tt1392190</td>\n",
       "      <td>28.419936</td>\n",
       "      <td>150000000</td>\n",
       "      <td>378436354</td>\n",
       "      <td>Mad Max: Fury Road</td>\n",
       "      <td>Tom Hardy|Charlize Theron|Hugh Keays-Byrne|Nic...</td>\n",
       "      <td>http://www.madmaxmovie.com/</td>\n",
       "      <td>George Miller</td>\n",
       "      <td>What a Lovely Day.</td>\n",
       "      <td>...</td>\n",
       "      <td>An apocalyptic story set in the furthest reach...</td>\n",
       "      <td>120</td>\n",
       "      <td>Action|Adventure|Science Fiction|Thriller</td>\n",
       "      <td>Village Roadshow Pictures|Kennedy Miller Produ...</td>\n",
       "      <td>5/13/15</td>\n",
       "      <td>6185</td>\n",
       "      <td>7.1</td>\n",
       "      <td>2015</td>\n",
       "      <td>1.379999e+08</td>\n",
       "      <td>3.481613e+08</td>\n",
       "    </tr>\n",
       "  </tbody>\n",
       "</table>\n",
       "<p>2 rows × 21 columns</p>\n",
       "</div>"
      ],
      "text/plain": [
       "       id    imdb_id  popularity     budget     revenue      original_title  \\\n",
       "0  135397  tt0369610   32.985763  150000000  1513528810      Jurassic World   \n",
       "1   76341  tt1392190   28.419936  150000000   378436354  Mad Max: Fury Road   \n",
       "\n",
       "                                                cast  \\\n",
       "0  Chris Pratt|Bryce Dallas Howard|Irrfan Khan|Vi...   \n",
       "1  Tom Hardy|Charlize Theron|Hugh Keays-Byrne|Nic...   \n",
       "\n",
       "                        homepage         director             tagline  ...  \\\n",
       "0  http://www.jurassicworld.com/  Colin Trevorrow   The park is open.  ...   \n",
       "1    http://www.madmaxmovie.com/    George Miller  What a Lovely Day.  ...   \n",
       "\n",
       "                                            overview runtime  \\\n",
       "0  Twenty-two years after the events of Jurassic ...     124   \n",
       "1  An apocalyptic story set in the furthest reach...     120   \n",
       "\n",
       "                                      genres  \\\n",
       "0  Action|Adventure|Science Fiction|Thriller   \n",
       "1  Action|Adventure|Science Fiction|Thriller   \n",
       "\n",
       "                                production_companies release_date vote_count  \\\n",
       "0  Universal Studios|Amblin Entertainment|Legenda...       6/9/15       5562   \n",
       "1  Village Roadshow Pictures|Kennedy Miller Produ...      5/13/15       6185   \n",
       "\n",
       "   vote_average  release_year    budget_adj   revenue_adj  \n",
       "0           6.5          2015  1.379999e+08  1.392446e+09  \n",
       "1           7.1          2015  1.379999e+08  3.481613e+08  \n",
       "\n",
       "[2 rows x 21 columns]"
      ]
     },
     "execution_count": 4,
     "metadata": {},
     "output_type": "execute_result"
    },
    {
     "name": "stdout",
     "output_type": "stream",
     "text": [
      "2019-08-04 21:23:30.696342\n"
     ]
    }
   ],
   "source": [
    "if debugging: \n",
    "    print(datetime.now())\n",
    "    \n",
    "    df.head(2)\n",
    "    \n",
    "    print(datetime.now()) "
   ]
  },
  {
   "cell_type": "markdown",
   "metadata": {},
   "source": [
    "> as noted in the data description page the genres are separated by the pipe symbol |"
   ]
  },
  {
   "cell_type": "code",
   "execution_count": 5,
   "metadata": {},
   "outputs": [
    {
     "name": "stdout",
     "output_type": "stream",
     "text": [
      "2019-08-04 21:23:37.664068\n",
      "<class 'pandas.core.frame.DataFrame'>\n",
      "RangeIndex: 10866 entries, 0 to 10865\n",
      "Data columns (total 21 columns):\n",
      "id                      10866 non-null int64\n",
      "imdb_id                 10856 non-null object\n",
      "popularity              10866 non-null float64\n",
      "budget                  10866 non-null int64\n",
      "revenue                 10866 non-null int64\n",
      "original_title          10866 non-null object\n",
      "cast                    10790 non-null object\n",
      "homepage                2936 non-null object\n",
      "director                10822 non-null object\n",
      "tagline                 8042 non-null object\n",
      "keywords                9373 non-null object\n",
      "overview                10862 non-null object\n",
      "runtime                 10866 non-null int64\n",
      "genres                  10843 non-null object\n",
      "production_companies    9836 non-null object\n",
      "release_date            10866 non-null object\n",
      "vote_count              10866 non-null int64\n",
      "vote_average            10866 non-null float64\n",
      "release_year            10866 non-null int64\n",
      "budget_adj              10866 non-null float64\n",
      "revenue_adj             10866 non-null float64\n",
      "dtypes: float64(4), int64(6), object(11)\n",
      "memory usage: 1.7+ MB\n",
      "2019-08-04 21:23:37.675038\n"
     ]
    }
   ],
   "source": [
    "if debugging:\n",
    "    print(datetime.now())\n",
    "    \n",
    "    df.info()\n",
    "    \n",
    "    print(datetime.now())"
   ]
  },
  {
   "cell_type": "code",
   "execution_count": 6,
   "metadata": {},
   "outputs": [
    {
     "name": "stdout",
     "output_type": "stream",
     "text": [
      "2019-08-04 21:23:42.586870\n"
     ]
    },
    {
     "data": {
      "text/html": [
       "<div>\n",
       "<style scoped>\n",
       "    .dataframe tbody tr th:only-of-type {\n",
       "        vertical-align: middle;\n",
       "    }\n",
       "\n",
       "    .dataframe tbody tr th {\n",
       "        vertical-align: top;\n",
       "    }\n",
       "\n",
       "    .dataframe thead th {\n",
       "        text-align: right;\n",
       "    }\n",
       "</style>\n",
       "<table border=\"1\" class=\"dataframe\">\n",
       "  <thead>\n",
       "    <tr style=\"text-align: right;\">\n",
       "      <th></th>\n",
       "      <th>id</th>\n",
       "      <th>popularity</th>\n",
       "      <th>budget</th>\n",
       "      <th>revenue</th>\n",
       "      <th>runtime</th>\n",
       "      <th>vote_count</th>\n",
       "      <th>vote_average</th>\n",
       "      <th>release_year</th>\n",
       "      <th>budget_adj</th>\n",
       "      <th>revenue_adj</th>\n",
       "    </tr>\n",
       "  </thead>\n",
       "  <tbody>\n",
       "    <tr>\n",
       "      <th>count</th>\n",
       "      <td>10866.000000</td>\n",
       "      <td>10866.000000</td>\n",
       "      <td>1.086600e+04</td>\n",
       "      <td>1.086600e+04</td>\n",
       "      <td>10866.000000</td>\n",
       "      <td>10866.000000</td>\n",
       "      <td>10866.000000</td>\n",
       "      <td>10866.000000</td>\n",
       "      <td>1.086600e+04</td>\n",
       "      <td>1.086600e+04</td>\n",
       "    </tr>\n",
       "    <tr>\n",
       "      <th>mean</th>\n",
       "      <td>66064.177434</td>\n",
       "      <td>0.646441</td>\n",
       "      <td>1.462570e+07</td>\n",
       "      <td>3.982332e+07</td>\n",
       "      <td>102.070863</td>\n",
       "      <td>217.389748</td>\n",
       "      <td>5.974922</td>\n",
       "      <td>2001.322658</td>\n",
       "      <td>1.755104e+07</td>\n",
       "      <td>5.136436e+07</td>\n",
       "    </tr>\n",
       "    <tr>\n",
       "      <th>std</th>\n",
       "      <td>92130.136561</td>\n",
       "      <td>1.000185</td>\n",
       "      <td>3.091321e+07</td>\n",
       "      <td>1.170035e+08</td>\n",
       "      <td>31.381405</td>\n",
       "      <td>575.619058</td>\n",
       "      <td>0.935142</td>\n",
       "      <td>12.812941</td>\n",
       "      <td>3.430616e+07</td>\n",
       "      <td>1.446325e+08</td>\n",
       "    </tr>\n",
       "    <tr>\n",
       "      <th>min</th>\n",
       "      <td>5.000000</td>\n",
       "      <td>0.000065</td>\n",
       "      <td>0.000000e+00</td>\n",
       "      <td>0.000000e+00</td>\n",
       "      <td>0.000000</td>\n",
       "      <td>10.000000</td>\n",
       "      <td>1.500000</td>\n",
       "      <td>1960.000000</td>\n",
       "      <td>0.000000e+00</td>\n",
       "      <td>0.000000e+00</td>\n",
       "    </tr>\n",
       "    <tr>\n",
       "      <th>25%</th>\n",
       "      <td>10596.250000</td>\n",
       "      <td>0.207583</td>\n",
       "      <td>0.000000e+00</td>\n",
       "      <td>0.000000e+00</td>\n",
       "      <td>90.000000</td>\n",
       "      <td>17.000000</td>\n",
       "      <td>5.400000</td>\n",
       "      <td>1995.000000</td>\n",
       "      <td>0.000000e+00</td>\n",
       "      <td>0.000000e+00</td>\n",
       "    </tr>\n",
       "    <tr>\n",
       "      <th>50%</th>\n",
       "      <td>20669.000000</td>\n",
       "      <td>0.383856</td>\n",
       "      <td>0.000000e+00</td>\n",
       "      <td>0.000000e+00</td>\n",
       "      <td>99.000000</td>\n",
       "      <td>38.000000</td>\n",
       "      <td>6.000000</td>\n",
       "      <td>2006.000000</td>\n",
       "      <td>0.000000e+00</td>\n",
       "      <td>0.000000e+00</td>\n",
       "    </tr>\n",
       "    <tr>\n",
       "      <th>75%</th>\n",
       "      <td>75610.000000</td>\n",
       "      <td>0.713817</td>\n",
       "      <td>1.500000e+07</td>\n",
       "      <td>2.400000e+07</td>\n",
       "      <td>111.000000</td>\n",
       "      <td>145.750000</td>\n",
       "      <td>6.600000</td>\n",
       "      <td>2011.000000</td>\n",
       "      <td>2.085325e+07</td>\n",
       "      <td>3.369710e+07</td>\n",
       "    </tr>\n",
       "    <tr>\n",
       "      <th>max</th>\n",
       "      <td>417859.000000</td>\n",
       "      <td>32.985763</td>\n",
       "      <td>4.250000e+08</td>\n",
       "      <td>2.781506e+09</td>\n",
       "      <td>900.000000</td>\n",
       "      <td>9767.000000</td>\n",
       "      <td>9.200000</td>\n",
       "      <td>2015.000000</td>\n",
       "      <td>4.250000e+08</td>\n",
       "      <td>2.827124e+09</td>\n",
       "    </tr>\n",
       "  </tbody>\n",
       "</table>\n",
       "</div>"
      ],
      "text/plain": [
       "                  id    popularity        budget       revenue       runtime  \\\n",
       "count   10866.000000  10866.000000  1.086600e+04  1.086600e+04  10866.000000   \n",
       "mean    66064.177434      0.646441  1.462570e+07  3.982332e+07    102.070863   \n",
       "std     92130.136561      1.000185  3.091321e+07  1.170035e+08     31.381405   \n",
       "min         5.000000      0.000065  0.000000e+00  0.000000e+00      0.000000   \n",
       "25%     10596.250000      0.207583  0.000000e+00  0.000000e+00     90.000000   \n",
       "50%     20669.000000      0.383856  0.000000e+00  0.000000e+00     99.000000   \n",
       "75%     75610.000000      0.713817  1.500000e+07  2.400000e+07    111.000000   \n",
       "max    417859.000000     32.985763  4.250000e+08  2.781506e+09    900.000000   \n",
       "\n",
       "         vote_count  vote_average  release_year    budget_adj   revenue_adj  \n",
       "count  10866.000000  10866.000000  10866.000000  1.086600e+04  1.086600e+04  \n",
       "mean     217.389748      5.974922   2001.322658  1.755104e+07  5.136436e+07  \n",
       "std      575.619058      0.935142     12.812941  3.430616e+07  1.446325e+08  \n",
       "min       10.000000      1.500000   1960.000000  0.000000e+00  0.000000e+00  \n",
       "25%       17.000000      5.400000   1995.000000  0.000000e+00  0.000000e+00  \n",
       "50%       38.000000      6.000000   2006.000000  0.000000e+00  0.000000e+00  \n",
       "75%      145.750000      6.600000   2011.000000  2.085325e+07  3.369710e+07  \n",
       "max     9767.000000      9.200000   2015.000000  4.250000e+08  2.827124e+09  "
      ]
     },
     "execution_count": 6,
     "metadata": {},
     "output_type": "execute_result"
    },
    {
     "name": "stdout",
     "output_type": "stream",
     "text": [
      "2019-08-04 21:23:42.620753\n"
     ]
    }
   ],
   "source": [
    "if debugging:\n",
    "    print(datetime.now())\n",
    "    \n",
    "    df.describe()\n",
    "    \n",
    "    print(datetime.now())"
   ]
  },
  {
   "cell_type": "code",
   "execution_count": 7,
   "metadata": {},
   "outputs": [
    {
     "name": "stdout",
     "output_type": "stream",
     "text": [
      "2019-08-04 21:23:45.101769\n"
     ]
    },
    {
     "data": {
      "text/plain": [
       "id                        int64\n",
       "imdb_id                  object\n",
       "popularity              float64\n",
       "budget                    int64\n",
       "revenue                   int64\n",
       "original_title           object\n",
       "cast                     object\n",
       "homepage                 object\n",
       "director                 object\n",
       "tagline                  object\n",
       "keywords                 object\n",
       "overview                 object\n",
       "runtime                   int64\n",
       "genres                   object\n",
       "production_companies     object\n",
       "release_date             object\n",
       "vote_count                int64\n",
       "vote_average            float64\n",
       "release_year              int64\n",
       "budget_adj              float64\n",
       "revenue_adj             float64\n",
       "dtype: object"
      ]
     },
     "execution_count": 7,
     "metadata": {},
     "output_type": "execute_result"
    },
    {
     "name": "stdout",
     "output_type": "stream",
     "text": [
      "2019-08-04 21:23:45.104762\n"
     ]
    }
   ],
   "source": [
    "if debugging:\n",
    "    print(datetime.now())\n",
    "    \n",
    "    df.dtypes\n",
    "    \n",
    "    print(datetime.now())"
   ]
  },
  {
   "cell_type": "markdown",
   "metadata": {},
   "source": [
    "> The popularity field seems like it might be interesting. So I checked the kaggle page and did a web search, but diecovered its a rating of how many times the movie was viewed the past week on the site.              \n",
    "So I really don't see how its useful at all and why its even included in the dataset.        \n",
    "If they had a history f the popylarity so we could see how it changed week to week that might be interesting, but having one value for one week seems utterly useless.\n"
   ]
  },
  {
   "cell_type": "markdown",
   "metadata": {},
   "source": [
    "### Data Cleaning \n"
   ]
  },
  {
   "cell_type": "code",
   "execution_count": 8,
   "metadata": {},
   "outputs": [
    {
     "name": "stdout",
     "output_type": "stream",
     "text": [
      "2019-08-04 21:23:53.816315\n"
     ]
    },
    {
     "data": {
      "text/html": [
       "<div>\n",
       "<style scoped>\n",
       "    .dataframe tbody tr th:only-of-type {\n",
       "        vertical-align: middle;\n",
       "    }\n",
       "\n",
       "    .dataframe tbody tr th {\n",
       "        vertical-align: top;\n",
       "    }\n",
       "\n",
       "    .dataframe thead th {\n",
       "        text-align: right;\n",
       "    }\n",
       "</style>\n",
       "<table border=\"1\" class=\"dataframe\">\n",
       "  <thead>\n",
       "    <tr style=\"text-align: right;\">\n",
       "      <th></th>\n",
       "      <th>id</th>\n",
       "      <th>genres</th>\n",
       "    </tr>\n",
       "  </thead>\n",
       "  <tbody>\n",
       "    <tr>\n",
       "      <th>0</th>\n",
       "      <td>135397</td>\n",
       "      <td>Action|Adventure|Science Fiction|Thriller</td>\n",
       "    </tr>\n",
       "    <tr>\n",
       "      <th>1</th>\n",
       "      <td>76341</td>\n",
       "      <td>Action|Adventure|Science Fiction|Thriller</td>\n",
       "    </tr>\n",
       "    <tr>\n",
       "      <th>2</th>\n",
       "      <td>262500</td>\n",
       "      <td>Adventure|Science Fiction|Thriller</td>\n",
       "    </tr>\n",
       "    <tr>\n",
       "      <th>3</th>\n",
       "      <td>140607</td>\n",
       "      <td>Action|Adventure|Science Fiction|Fantasy</td>\n",
       "    </tr>\n",
       "    <tr>\n",
       "      <th>4</th>\n",
       "      <td>168259</td>\n",
       "      <td>Action|Crime|Thriller</td>\n",
       "    </tr>\n",
       "  </tbody>\n",
       "</table>\n",
       "</div>"
      ],
      "text/plain": [
       "       id                                     genres\n",
       "0  135397  Action|Adventure|Science Fiction|Thriller\n",
       "1   76341  Action|Adventure|Science Fiction|Thriller\n",
       "2  262500         Adventure|Science Fiction|Thriller\n",
       "3  140607   Action|Adventure|Science Fiction|Fantasy\n",
       "4  168259                      Action|Crime|Thriller"
      ]
     },
     "execution_count": 8,
     "metadata": {},
     "output_type": "execute_result"
    },
    {
     "name": "stdout",
     "output_type": "stream",
     "text": [
      "2019-08-04 21:23:53.821302\n"
     ]
    }
   ],
   "source": [
    "print(datetime.now())\n",
    "\n",
    "# create a dataframe that contains jsut the movie id and its corresponding genres\n",
    "\n",
    "genres_df = df[[\"id\", \"genres\"]]\n",
    "\n",
    "if debugging:\n",
    "    genres_df.head(5)\n",
    "\n",
    "print(datetime.now())    "
   ]
  },
  {
   "cell_type": "code",
   "execution_count": 9,
   "metadata": {},
   "outputs": [
    {
     "name": "stdout",
     "output_type": "stream",
     "text": [
      "2019-08-04 21:23:57.348185\n"
     ]
    },
    {
     "data": {
      "text/html": [
       "<div>\n",
       "<style scoped>\n",
       "    .dataframe tbody tr th:only-of-type {\n",
       "        vertical-align: middle;\n",
       "    }\n",
       "\n",
       "    .dataframe tbody tr th {\n",
       "        vertical-align: top;\n",
       "    }\n",
       "\n",
       "    .dataframe thead th {\n",
       "        text-align: right;\n",
       "    }\n",
       "</style>\n",
       "<table border=\"1\" class=\"dataframe\">\n",
       "  <thead>\n",
       "    <tr style=\"text-align: right;\">\n",
       "      <th></th>\n",
       "      <th>0</th>\n",
       "      <th>1</th>\n",
       "      <th>2</th>\n",
       "      <th>3</th>\n",
       "      <th>4</th>\n",
       "    </tr>\n",
       "  </thead>\n",
       "  <tbody>\n",
       "    <tr>\n",
       "      <th>0</th>\n",
       "      <td>Action</td>\n",
       "      <td>Adventure</td>\n",
       "      <td>Science Fiction</td>\n",
       "      <td>Thriller</td>\n",
       "      <td>None</td>\n",
       "    </tr>\n",
       "    <tr>\n",
       "      <th>1</th>\n",
       "      <td>Action</td>\n",
       "      <td>Adventure</td>\n",
       "      <td>Science Fiction</td>\n",
       "      <td>Thriller</td>\n",
       "      <td>None</td>\n",
       "    </tr>\n",
       "    <tr>\n",
       "      <th>2</th>\n",
       "      <td>Adventure</td>\n",
       "      <td>Science Fiction</td>\n",
       "      <td>Thriller</td>\n",
       "      <td>None</td>\n",
       "      <td>None</td>\n",
       "    </tr>\n",
       "    <tr>\n",
       "      <th>3</th>\n",
       "      <td>Action</td>\n",
       "      <td>Adventure</td>\n",
       "      <td>Science Fiction</td>\n",
       "      <td>Fantasy</td>\n",
       "      <td>None</td>\n",
       "    </tr>\n",
       "    <tr>\n",
       "      <th>4</th>\n",
       "      <td>Action</td>\n",
       "      <td>Crime</td>\n",
       "      <td>Thriller</td>\n",
       "      <td>None</td>\n",
       "      <td>None</td>\n",
       "    </tr>\n",
       "  </tbody>\n",
       "</table>\n",
       "</div>"
      ],
      "text/plain": [
       "           0                1                2         3     4\n",
       "0     Action        Adventure  Science Fiction  Thriller  None\n",
       "1     Action        Adventure  Science Fiction  Thriller  None\n",
       "2  Adventure  Science Fiction         Thriller      None  None\n",
       "3     Action        Adventure  Science Fiction   Fantasy  None\n",
       "4     Action            Crime         Thriller      None  None"
      ]
     },
     "execution_count": 9,
     "metadata": {},
     "output_type": "execute_result"
    },
    {
     "name": "stdout",
     "output_type": "stream",
     "text": [
      "2019-08-04 21:23:57.374065\n"
     ]
    }
   ],
   "source": [
    "print(datetime.now())\n",
    "\n",
    "# now split the genres into individual columns \n",
    "genres_split_df = genres_df[\"genres\"].str.split(\"|\", expand=True)\n",
    "\n",
    "if debugging: \n",
    "    genres_split_df.head()\n",
    "\n",
    "print(datetime.now())"
   ]
  },
  {
   "cell_type": "code",
   "execution_count": 10,
   "metadata": {},
   "outputs": [
    {
     "name": "stdout",
     "output_type": "stream",
     "text": [
      "2019-08-04 21:24:01.211876\n"
     ]
    },
    {
     "data": {
      "text/html": [
       "<div>\n",
       "<style scoped>\n",
       "    .dataframe tbody tr th:only-of-type {\n",
       "        vertical-align: middle;\n",
       "    }\n",
       "\n",
       "    .dataframe tbody tr th {\n",
       "        vertical-align: top;\n",
       "    }\n",
       "\n",
       "    .dataframe thead th {\n",
       "        text-align: right;\n",
       "    }\n",
       "</style>\n",
       "<table border=\"1\" class=\"dataframe\">\n",
       "  <thead>\n",
       "    <tr style=\"text-align: right;\">\n",
       "      <th></th>\n",
       "      <th>id</th>\n",
       "      <th>genres</th>\n",
       "      <th>0</th>\n",
       "      <th>1</th>\n",
       "      <th>2</th>\n",
       "      <th>3</th>\n",
       "      <th>4</th>\n",
       "    </tr>\n",
       "  </thead>\n",
       "  <tbody>\n",
       "    <tr>\n",
       "      <th>0</th>\n",
       "      <td>135397</td>\n",
       "      <td>Action|Adventure|Science Fiction|Thriller</td>\n",
       "      <td>Action</td>\n",
       "      <td>Adventure</td>\n",
       "      <td>Science Fiction</td>\n",
       "      <td>Thriller</td>\n",
       "      <td>None</td>\n",
       "    </tr>\n",
       "    <tr>\n",
       "      <th>1</th>\n",
       "      <td>76341</td>\n",
       "      <td>Action|Adventure|Science Fiction|Thriller</td>\n",
       "      <td>Action</td>\n",
       "      <td>Adventure</td>\n",
       "      <td>Science Fiction</td>\n",
       "      <td>Thriller</td>\n",
       "      <td>None</td>\n",
       "    </tr>\n",
       "    <tr>\n",
       "      <th>2</th>\n",
       "      <td>262500</td>\n",
       "      <td>Adventure|Science Fiction|Thriller</td>\n",
       "      <td>Adventure</td>\n",
       "      <td>Science Fiction</td>\n",
       "      <td>Thriller</td>\n",
       "      <td>None</td>\n",
       "      <td>None</td>\n",
       "    </tr>\n",
       "  </tbody>\n",
       "</table>\n",
       "</div>"
      ],
      "text/plain": [
       "       id                                     genres          0  \\\n",
       "0  135397  Action|Adventure|Science Fiction|Thriller     Action   \n",
       "1   76341  Action|Adventure|Science Fiction|Thriller     Action   \n",
       "2  262500         Adventure|Science Fiction|Thriller  Adventure   \n",
       "\n",
       "                 1                2         3     4  \n",
       "0        Adventure  Science Fiction  Thriller  None  \n",
       "1        Adventure  Science Fiction  Thriller  None  \n",
       "2  Science Fiction         Thriller      None  None  "
      ]
     },
     "execution_count": 10,
     "metadata": {},
     "output_type": "execute_result"
    },
    {
     "name": "stdout",
     "output_type": "stream",
     "text": [
      "2019-08-04 21:24:01.218855\n"
     ]
    }
   ],
   "source": [
    "print(datetime.now())\n",
    "\n",
    "# since both the unsplit and split genre datafraames have the same indices we can join them together \n",
    "genres_df = pd.concat( [genres_df, genres_split_df], axis=1, join=\"inner\" )\n",
    "\n",
    "if debugging: \n",
    "    genres_df.head(3)\n",
    "    \n",
    "print(datetime.now())    "
   ]
  },
  {
   "cell_type": "code",
   "execution_count": 11,
   "metadata": {},
   "outputs": [
    {
     "name": "stdout",
     "output_type": "stream",
     "text": [
      "2019-08-04 21:24:04.317106\n"
     ]
    },
    {
     "data": {
      "text/html": [
       "<div>\n",
       "<style scoped>\n",
       "    .dataframe tbody tr th:only-of-type {\n",
       "        vertical-align: middle;\n",
       "    }\n",
       "\n",
       "    .dataframe tbody tr th {\n",
       "        vertical-align: top;\n",
       "    }\n",
       "\n",
       "    .dataframe thead th {\n",
       "        text-align: right;\n",
       "    }\n",
       "</style>\n",
       "<table border=\"1\" class=\"dataframe\">\n",
       "  <thead>\n",
       "    <tr style=\"text-align: right;\">\n",
       "      <th></th>\n",
       "      <th>id</th>\n",
       "      <th>genre</th>\n",
       "    </tr>\n",
       "  </thead>\n",
       "  <tbody>\n",
       "    <tr>\n",
       "      <th>0</th>\n",
       "      <td>135397</td>\n",
       "      <td>Action</td>\n",
       "    </tr>\n",
       "    <tr>\n",
       "      <th>1</th>\n",
       "      <td>76341</td>\n",
       "      <td>Action</td>\n",
       "    </tr>\n",
       "    <tr>\n",
       "      <th>2</th>\n",
       "      <td>262500</td>\n",
       "      <td>Adventure</td>\n",
       "    </tr>\n",
       "    <tr>\n",
       "      <th>3</th>\n",
       "      <td>140607</td>\n",
       "      <td>Action</td>\n",
       "    </tr>\n",
       "    <tr>\n",
       "      <th>4</th>\n",
       "      <td>168259</td>\n",
       "      <td>Action</td>\n",
       "    </tr>\n",
       "  </tbody>\n",
       "</table>\n",
       "</div>"
      ],
      "text/plain": [
       "       id      genre\n",
       "0  135397     Action\n",
       "1   76341     Action\n",
       "2  262500  Adventure\n",
       "3  140607     Action\n",
       "4  168259     Action"
      ]
     },
     "execution_count": 11,
     "metadata": {},
     "output_type": "execute_result"
    },
    {
     "name": "stdout",
     "output_type": "stream",
     "text": [
      "2019-08-04 21:24:04.326082\n"
     ]
    }
   ],
   "source": [
    "print(datetime.now())    \n",
    "\n",
    "# now we want to combine columns 0 through 4 into a single genre column \n",
    "# we'll use a list comprehension to create 5 dataframes \n",
    "# and then concat them into a single dataframe \n",
    "\n",
    "genres_df = pd.concat ( \n",
    "    [\n",
    "        pd.DataFrame( \n",
    "            { \"id\": genres_df[\"id\"], \"genre\": genres_df[i] } \n",
    "        )\n",
    "        for i in range(5)\n",
    "    ] \n",
    ")\n",
    "\n",
    "if debugging: \n",
    "    genres_df.head()\n",
    "\n",
    "print(datetime.now())        "
   ]
  },
  {
   "cell_type": "code",
   "execution_count": 12,
   "metadata": {},
   "outputs": [
    {
     "name": "stdout",
     "output_type": "stream",
     "text": [
      "2019-08-04 21:24:11.333184\n"
     ]
    },
    {
     "data": {
      "text/plain": [
       "True"
      ]
     },
     "execution_count": 12,
     "metadata": {},
     "output_type": "execute_result"
    },
    {
     "name": "stdout",
     "output_type": "stream",
     "text": [
      "2019-08-04 21:24:11.334181\n"
     ]
    }
   ],
   "source": [
    "print(datetime.now())    \n",
    "\n",
    "# we saw in the split genres dataframe that there were at most 5 genres (0 through 4)\n",
    "# so now that we've combined them into one column ... \n",
    "# check and see if the number of rows in the genres dataframe \n",
    "# is equal to 5 times the number of rows in the origianl dataframe \n",
    "\n",
    "df.shape[0] * 5 == genres_df.shape[0] \n",
    "\n",
    "print(datetime.now())    "
   ]
  },
  {
   "cell_type": "code",
   "execution_count": 13,
   "metadata": {},
   "outputs": [
    {
     "name": "stdout",
     "output_type": "stream",
     "text": [
      "2019-08-04 21:24:13.540488\n"
     ]
    },
    {
     "data": {
      "text/plain": [
       "id                                           135397\n",
       "genres    Action|Adventure|Science Fiction|Thriller\n",
       "Name: 0, dtype: object"
      ]
     },
     "execution_count": 13,
     "metadata": {},
     "output_type": "execute_result"
    },
    {
     "data": {
      "text/html": [
       "<div>\n",
       "<style scoped>\n",
       "    .dataframe tbody tr th:only-of-type {\n",
       "        vertical-align: middle;\n",
       "    }\n",
       "\n",
       "    .dataframe tbody tr th {\n",
       "        vertical-align: top;\n",
       "    }\n",
       "\n",
       "    .dataframe thead th {\n",
       "        text-align: right;\n",
       "    }\n",
       "</style>\n",
       "<table border=\"1\" class=\"dataframe\">\n",
       "  <thead>\n",
       "    <tr style=\"text-align: right;\">\n",
       "      <th></th>\n",
       "      <th>id</th>\n",
       "      <th>genre</th>\n",
       "    </tr>\n",
       "  </thead>\n",
       "  <tbody>\n",
       "    <tr>\n",
       "      <th>0</th>\n",
       "      <td>135397</td>\n",
       "      <td>Action</td>\n",
       "    </tr>\n",
       "    <tr>\n",
       "      <th>0</th>\n",
       "      <td>135397</td>\n",
       "      <td>Adventure</td>\n",
       "    </tr>\n",
       "    <tr>\n",
       "      <th>0</th>\n",
       "      <td>135397</td>\n",
       "      <td>Science Fiction</td>\n",
       "    </tr>\n",
       "    <tr>\n",
       "      <th>0</th>\n",
       "      <td>135397</td>\n",
       "      <td>Thriller</td>\n",
       "    </tr>\n",
       "    <tr>\n",
       "      <th>0</th>\n",
       "      <td>135397</td>\n",
       "      <td>None</td>\n",
       "    </tr>\n",
       "  </tbody>\n",
       "</table>\n",
       "</div>"
      ],
      "text/plain": [
       "       id            genre\n",
       "0  135397           Action\n",
       "0  135397        Adventure\n",
       "0  135397  Science Fiction\n",
       "0  135397         Thriller\n",
       "0  135397             None"
      ]
     },
     "execution_count": 13,
     "metadata": {},
     "output_type": "execute_result"
    },
    {
     "name": "stdout",
     "output_type": "stream",
     "text": [
      "2019-08-04 21:24:13.569179\n"
     ]
    }
   ],
   "source": [
    "print(datetime.now())  \n",
    "\n",
    "# compare the genres in the first row of the original dataframe with the genres in the genre dataframe \n",
    "# make sure the movie id and genres match \n",
    "\n",
    "df.iloc[0][[\"id\", \"genres\"]]\n",
    "\n",
    "genres_df.query( \"id == {}\".format(df.iloc[0][\"id\"]) )\n",
    "\n",
    "print(datetime.now())  "
   ]
  },
  {
   "cell_type": "code",
   "execution_count": 14,
   "metadata": {},
   "outputs": [
    {
     "name": "stdout",
     "output_type": "stream",
     "text": [
      "2019-08-04 21:24:21.079373\n"
     ]
    },
    {
     "data": {
      "text/plain": [
       "(54330, 2)"
      ]
     },
     "execution_count": 14,
     "metadata": {},
     "output_type": "execute_result"
    },
    {
     "data": {
      "text/plain": [
       "(26960, 2)"
      ]
     },
     "execution_count": 14,
     "metadata": {},
     "output_type": "execute_result"
    },
    {
     "name": "stdout",
     "output_type": "stream",
     "text": [
      "2019-08-04 21:24:21.086354\n"
     ]
    }
   ],
   "source": [
    "print(datetime.now())  \n",
    "\n",
    "# many of the movies did not have 5 genres \n",
    "# so when we split we filled those spaces with None \n",
    "# so let's keep only those that are valid values\n",
    "\n",
    "genres_df.shape\n",
    "\n",
    "criteria = genres_df[\"genre\"].notna()\n",
    "\n",
    "genres_df = genres_df[criteria]\n",
    "\n",
    "genres_df.shape\n",
    "\n",
    "print(datetime.now())  "
   ]
  },
  {
   "cell_type": "code",
   "execution_count": 15,
   "metadata": {},
   "outputs": [
    {
     "name": "stdout",
     "output_type": "stream",
     "text": [
      "2019-08-04 21:24:23.350972\n"
     ]
    },
    {
     "data": {
      "text/html": [
       "<div>\n",
       "<style scoped>\n",
       "    .dataframe tbody tr th:only-of-type {\n",
       "        vertical-align: middle;\n",
       "    }\n",
       "\n",
       "    .dataframe tbody tr th {\n",
       "        vertical-align: top;\n",
       "    }\n",
       "\n",
       "    .dataframe thead th {\n",
       "        text-align: right;\n",
       "    }\n",
       "</style>\n",
       "<table border=\"1\" class=\"dataframe\">\n",
       "  <thead>\n",
       "    <tr style=\"text-align: right;\">\n",
       "      <th></th>\n",
       "      <th>id</th>\n",
       "      <th>runtime</th>\n",
       "      <th>vote_count</th>\n",
       "      <th>release_year</th>\n",
       "      <th>release_date</th>\n",
       "      <th>revenue_adj</th>\n",
       "      <th>genre</th>\n",
       "    </tr>\n",
       "  </thead>\n",
       "  <tbody>\n",
       "    <tr>\n",
       "      <th>0</th>\n",
       "      <td>135397</td>\n",
       "      <td>124</td>\n",
       "      <td>5562</td>\n",
       "      <td>2015</td>\n",
       "      <td>6/9/15</td>\n",
       "      <td>1.392446e+09</td>\n",
       "      <td>Action</td>\n",
       "    </tr>\n",
       "    <tr>\n",
       "      <th>0</th>\n",
       "      <td>135397</td>\n",
       "      <td>124</td>\n",
       "      <td>5562</td>\n",
       "      <td>2015</td>\n",
       "      <td>6/9/15</td>\n",
       "      <td>1.392446e+09</td>\n",
       "      <td>Adventure</td>\n",
       "    </tr>\n",
       "    <tr>\n",
       "      <th>0</th>\n",
       "      <td>135397</td>\n",
       "      <td>124</td>\n",
       "      <td>5562</td>\n",
       "      <td>2015</td>\n",
       "      <td>6/9/15</td>\n",
       "      <td>1.392446e+09</td>\n",
       "      <td>Science Fiction</td>\n",
       "    </tr>\n",
       "  </tbody>\n",
       "</table>\n",
       "</div>"
      ],
      "text/plain": [
       "       id  runtime  vote_count  release_year release_date   revenue_adj  \\\n",
       "0  135397      124        5562          2015       6/9/15  1.392446e+09   \n",
       "0  135397      124        5562          2015       6/9/15  1.392446e+09   \n",
       "0  135397      124        5562          2015       6/9/15  1.392446e+09   \n",
       "\n",
       "             genre  \n",
       "0           Action  \n",
       "0        Adventure  \n",
       "0  Science Fiction  "
      ]
     },
     "execution_count": 15,
     "metadata": {},
     "output_type": "execute_result"
    },
    {
     "data": {
      "text/plain": [
       "id                int64\n",
       "runtime           int64\n",
       "vote_count        int64\n",
       "release_year      int64\n",
       "release_date     object\n",
       "revenue_adj     float64\n",
       "genre            object\n",
       "dtype: object"
      ]
     },
     "execution_count": 15,
     "metadata": {},
     "output_type": "execute_result"
    },
    {
     "name": "stdout",
     "output_type": "stream",
     "text": [
      "2019-08-04 21:24:23.370892\n"
     ]
    }
   ],
   "source": [
    "print(datetime.now()) \n",
    "\n",
    "# now join the genre dataframe back to the origianl dataframe \n",
    "# we can do this since the indicies haven't changed in either dataframe \n",
    "    \n",
    "df_columns = [\"id\", \"runtime\", \"vote_count\", \"release_year\", \"release_date\", \"revenue_adj\"]\n",
    "joined_df = df[df_columns].join(genres_df[\"genre\"])\n",
    "\n",
    "if debugging: \n",
    "    joined_df.head(3)\n",
    "    joined_df.dtypes\n",
    "    \n",
    "print(datetime.now()) "
   ]
  },
  {
   "cell_type": "code",
   "execution_count": 16,
   "metadata": {},
   "outputs": [
    {
     "name": "stdout",
     "output_type": "stream",
     "text": [
      "2019-08-04 21:25:03.928582\n",
      "2019-08-04 21:25:05.581164\n"
     ]
    }
   ],
   "source": [
    "print(datetime.now()) \n",
    "\n",
    "# add a release_month column to the dataframe\n",
    "joined_df[\"release_month\"] = pd.to_datetime(joined_df[\"release_date\"]).dt.month\n",
    "\n",
    "print(datetime.now()) "
   ]
  },
  {
   "cell_type": "code",
   "execution_count": 17,
   "metadata": {},
   "outputs": [
    {
     "name": "stdout",
     "output_type": "stream",
     "text": [
      "2019-08-04 21:25:16.989276\n",
      "2019-08-04 21:25:16.995259\n"
     ]
    }
   ],
   "source": [
    "print(datetime.now()) \n",
    "\n",
    "# don't need thsi anymore\n",
    "joined_df.drop(columns=[\"release_date\"], inplace=True)\n",
    "\n",
    "print(datetime.now()) "
   ]
  },
  {
   "cell_type": "code",
   "execution_count": 18,
   "metadata": {},
   "outputs": [
    {
     "name": "stdout",
     "output_type": "stream",
     "text": [
      "2019-08-04 21:25:21.012548\n"
     ]
    },
    {
     "data": {
      "text/plain": [
       "id                 int64\n",
       "runtime            int64\n",
       "vote_count         int64\n",
       "release_year       int64\n",
       "revenue_adj      float64\n",
       "genre             object\n",
       "release_month      int64\n",
       "dtype: object"
      ]
     },
     "execution_count": 18,
     "metadata": {},
     "output_type": "execute_result"
    },
    {
     "name": "stdout",
     "output_type": "stream",
     "text": [
      "2019-08-04 21:25:21.015540\n"
     ]
    }
   ],
   "source": [
    "print(datetime.now()) \n",
    "\n",
    "joined_df.dtypes\n",
    "\n",
    "print(datetime.now()) "
   ]
  },
  {
   "cell_type": "markdown",
   "metadata": {},
   "source": [
    "<a id='eda'></a>\n",
    "## Exploratory Data Analysis\n",
    "\n",
    "> **Tip**: Now that you've trimmed and cleaned your data, you're ready to move on to exploration. Compute statistics and create visualizations with the goal of addressing the research questions that you posed in the Introduction section. It is recommended that you be systematic with your approach. Look at one variable at a time, and then follow it up by looking at relationships between variables.\n",
    "\n",
    "### Research Question 1 (Replace this header name!)"
   ]
  },
  {
   "cell_type": "code",
   "execution_count": 82,
   "metadata": {},
   "outputs": [
    {
     "data": {
      "text/plain": [
       "genre\n",
       "Action             2385\n",
       "Adventure          1471\n",
       "Animation           699\n",
       "Comedy             3793\n",
       "Crime              1355\n",
       "Documentary         520\n",
       "Drama              4761\n",
       "Family             1231\n",
       "Fantasy             916\n",
       "Foreign             188\n",
       "History             334\n",
       "Horror             1637\n",
       "Music               408\n",
       "Mystery             810\n",
       "Romance            1712\n",
       "Science Fiction    1230\n",
       "TV Movie            167\n",
       "Thriller           2908\n",
       "War                 270\n",
       "Western             165\n",
       "dtype: int64"
      ]
     },
     "execution_count": 82,
     "metadata": {},
     "output_type": "execute_result"
    },
    {
     "data": {
      "text/plain": [
       "genre    release_year\n",
       "Action   1960             8\n",
       "         1961             7\n",
       "         1962             8\n",
       "         1963             4\n",
       "         1964             5\n",
       "         1965             9\n",
       "         1966            14\n",
       "         1967             7\n",
       "         1968             6\n",
       "         1969            10\n",
       "         1970            11\n",
       "         1971            11\n",
       "         1972            10\n",
       "         1973            15\n",
       "         1974            14\n",
       "         1975            10\n",
       "         1976            13\n",
       "         1977            14\n",
       "         1978            15\n",
       "         1979             8\n",
       "         1980            27\n",
       "         1981            17\n",
       "         1982            17\n",
       "         1983            21\n",
       "         1984            33\n",
       "         1985            28\n",
       "         1986            30\n",
       "         1987            29\n",
       "         1988            32\n",
       "         1989            38\n",
       "                         ..\n",
       "Western  1980             5\n",
       "         1982             2\n",
       "         1983             1\n",
       "         1985             3\n",
       "         1986             1\n",
       "         1987             1\n",
       "         1989             1\n",
       "         1990             3\n",
       "         1991             2\n",
       "         1992             2\n",
       "         1993             3\n",
       "         1994             8\n",
       "         1995             3\n",
       "         1998             1\n",
       "         1999             3\n",
       "         2000             2\n",
       "         2001             2\n",
       "         2002             1\n",
       "         2003             4\n",
       "         2004             7\n",
       "         2005             2\n",
       "         2006             1\n",
       "         2007             5\n",
       "         2008             2\n",
       "         2010             6\n",
       "         2011             3\n",
       "         2012             4\n",
       "         2013             3\n",
       "         2014             6\n",
       "         2015             6\n",
       "Length: 1049, dtype: int64"
      ]
     },
     "execution_count": 82,
     "metadata": {},
     "output_type": "execute_result"
    },
    {
     "data": {
      "text/plain": [
       "genre\n",
       "Action             937007\n",
       "Adventure          754807\n",
       "Animation          211797\n",
       "Comedy             669223\n",
       "Crime              377612\n",
       "Documentary         18255\n",
       "Drama              869022\n",
       "Family             335227\n",
       "Fantasy            385399\n",
       "Foreign              3126\n",
       "History             61380\n",
       "Horror             196538\n",
       "Music               50731\n",
       "Mystery            191969\n",
       "Romance            284313\n",
       "Science Fiction    537301\n",
       "TV Movie             5739\n",
       "Thriller           742803\n",
       "War                 73098\n",
       "Western             33947\n",
       "Name: vote_count, dtype: int64"
      ]
     },
     "execution_count": 82,
     "metadata": {},
     "output_type": "execute_result"
    },
    {
     "data": {
      "text/plain": [
       "release_year\n",
       "1960      7288\n",
       "1961      7609\n",
       "1962      6766\n",
       "1963      7961\n",
       "1964      9877\n",
       "1965      5849\n",
       "1966      3998\n",
       "1967      8538\n",
       "1968     11715\n",
       "1969      5215\n",
       "1970      6599\n",
       "1971     12639\n",
       "1972     11477\n",
       "1973     13766\n",
       "1974     12789\n",
       "1975     14924\n",
       "1976      9928\n",
       "1977     23346\n",
       "1978     11122\n",
       "1979     25485\n",
       "1980     27995\n",
       "1981     17668\n",
       "1982     34638\n",
       "1983     29299\n",
       "1984     43840\n",
       "1985     41940\n",
       "1986     39611\n",
       "1987     46152\n",
       "1988     37771\n",
       "1989     53607\n",
       "1990     63639\n",
       "1991     55273\n",
       "1992     59470\n",
       "1993     70590\n",
       "1994     98993\n",
       "1995    105530\n",
       "1996     74845\n",
       "1997    129429\n",
       "1998    112188\n",
       "1999    135823\n",
       "2000    120879\n",
       "2001    193329\n",
       "2002    187021\n",
       "2003    197084\n",
       "2004    223379\n",
       "2005    214594\n",
       "2006    228835\n",
       "2007    270165\n",
       "2008    290418\n",
       "2009    366898\n",
       "2010    389684\n",
       "2011    382211\n",
       "2012    512907\n",
       "2013    589429\n",
       "2014    553141\n",
       "2015    524531\n",
       "Name: vote_count, dtype: int64"
      ]
     },
     "execution_count": 82,
     "metadata": {},
     "output_type": "execute_result"
    },
    {
     "data": {
      "text/plain": [
       "release_year  genre          \n",
       "1960          Action               8\n",
       "              Adventure            5\n",
       "              Comedy               8\n",
       "              Crime                2\n",
       "              Drama               13\n",
       "              Family               3\n",
       "              Fantasy              2\n",
       "              Foreign              1\n",
       "              History              5\n",
       "              Horror               7\n",
       "              Music                1\n",
       "              Romance              6\n",
       "              Science Fiction      3\n",
       "              Thriller             6\n",
       "              War                  2\n",
       "              Western              6\n",
       "1961          Action               7\n",
       "              Adventure            6\n",
       "              Animation            1\n",
       "              Comedy              10\n",
       "              Crime                2\n",
       "              Drama               16\n",
       "              Family               5\n",
       "              Fantasy              2\n",
       "              Foreign              1\n",
       "              History              3\n",
       "              Horror               3\n",
       "              Music                2\n",
       "              Mystery              1\n",
       "              Romance              7\n",
       "                                ... \n",
       "2014          Fantasy             36\n",
       "              History             15\n",
       "              Horror             105\n",
       "              Music               28\n",
       "              Mystery             36\n",
       "              Romance             84\n",
       "              Science Fiction     62\n",
       "              TV Movie            14\n",
       "              Thriller           179\n",
       "              War                 23\n",
       "              Western              6\n",
       "2015          Action             107\n",
       "              Adventure           69\n",
       "              Animation           39\n",
       "              Comedy             162\n",
       "              Crime               51\n",
       "              Documentary         57\n",
       "              Drama              260\n",
       "              Family              44\n",
       "              Fantasy             33\n",
       "              History             15\n",
       "              Horror             125\n",
       "              Music               33\n",
       "              Mystery             42\n",
       "              Romance             57\n",
       "              Science Fiction     86\n",
       "              TV Movie            20\n",
       "              Thriller           171\n",
       "              War                  9\n",
       "              Western              6\n",
       "Length: 1049, dtype: int64"
      ]
     },
     "execution_count": 82,
     "metadata": {},
     "output_type": "execute_result"
    },
    {
     "data": {
      "text/plain": [
       "genre      release_month\n",
       "Action     1                200\n",
       "           2                146\n",
       "           3                191\n",
       "           4                209\n",
       "           5                208\n",
       "           6                213\n",
       "           7                200\n",
       "           8                227\n",
       "           9                222\n",
       "           10               203\n",
       "           11               159\n",
       "           12               207\n",
       "Adventure  1                 93\n",
       "           2                 77\n",
       "           3                112\n",
       "           4                108\n",
       "           5                120\n",
       "           6                147\n",
       "           7                148\n",
       "           8                121\n",
       "           9                120\n",
       "           10               121\n",
       "           11               125\n",
       "           12               179\n",
       "Animation  1                 53\n",
       "           2                 54\n",
       "           3                 53\n",
       "           4                 29\n",
       "           5                 34\n",
       "           6                 66\n",
       "                           ... \n",
       "Thriller   7                211\n",
       "           8                287\n",
       "           9                358\n",
       "           10               360\n",
       "           11               198\n",
       "           12               197\n",
       "War        1                 22\n",
       "           2                 12\n",
       "           3                 16\n",
       "           4                 20\n",
       "           5                 23\n",
       "           6                 22\n",
       "           7                 11\n",
       "           8                 15\n",
       "           9                 39\n",
       "           10                28\n",
       "           11                24\n",
       "           12                38\n",
       "Western    1                  7\n",
       "           2                  6\n",
       "           3                 12\n",
       "           4                 10\n",
       "           5                 21\n",
       "           6                 19\n",
       "           7                 17\n",
       "           8                  9\n",
       "           9                 14\n",
       "           10                16\n",
       "           11                13\n",
       "           12                21\n",
       "Length: 240, dtype: int64"
      ]
     },
     "execution_count": 82,
     "metadata": {},
     "output_type": "execute_result"
    }
   ],
   "source": [
    "# Use this, and more code cells, to explore your data. Don't forget to add\n",
    "#   Markdown cells to document your observations and findings.\n",
    "\n",
    "p1 = joined_df.groupby(\"genre\").size()\n",
    "p1\n",
    "p2 = joined_df.groupby([\"genre\", \"release_year\"]).size()\n",
    "p2\n",
    "p3 = joined_df.groupby([\"genre\"])[\"vote_count\"].sum()\n",
    "p3\n",
    "p4 = joined_df.groupby([\"release_year\"])[\"vote_count\"].sum()\n",
    "p4\n",
    "p5 = joined_df.groupby([\"release_year\", \"genre\"]).size()\n",
    "p5\n",
    "p6 = joined_df.groupby([\"genre\", \"release_month\"]).size()\n",
    "p6"
   ]
  },
  {
   "cell_type": "code",
   "execution_count": 33,
   "metadata": {
    "scrolled": false
   },
   "outputs": [
    {
     "data": {
      "image/png": "[encoded data removed]",
      "text/plain": [
       "<Figure size 1440x720 with 1 Axes>"
      ]
     },
     "metadata": {
      "needs_background": "light"
     },
     "output_type": "display_data"
    }
   ],
   "source": [
    "p1.plot(kind=\"barh\");"
   ]
  },
  {
   "cell_type": "code",
   "execution_count": 36,
   "metadata": {},
   "outputs": [
    {
     "data": {
      "image/png": "[encoded data removed]",
      "text/plain": [
       "<Figure size 1440x720 with 1 Axes>"
      ]
     },
     "metadata": {
      "needs_background": "light"
     },
     "output_type": "display_data"
    }
   ],
   "source": [
    "genre_counts = joined_df[\"genre\"].value_counts()\n",
    "\n",
    "plt.barh(genre_counts.index.values, genre_counts.values);"
   ]
  },
  {
   "cell_type": "code",
   "execution_count": 34,
   "metadata": {},
   "outputs": [
    {
     "data": {
      "image/png": "[encoded data removed]",
      "text/plain": [
       "<Figure size 1440x720 with 1 Axes>"
      ]
     },
     "metadata": {
      "needs_background": "light"
     },
     "output_type": "display_data"
    }
   ],
   "source": [
    "plt.barh(p3.index.values, p3.values);"
   ]
  },
  {
   "cell_type": "code",
   "execution_count": 26,
   "metadata": {},
   "outputs": [
    {
     "data": {
      "image/png": "[encoded data removed]",
      "text/plain": [
       "<Figure size 432x288 with 1 Axes>"
      ]
     },
     "metadata": {
      "needs_background": "light"
     },
     "output_type": "display_data"
    }
   ],
   "source": [
    "plt.scatter(p4.index.values, p4.values);"
   ]
  },
  {
   "cell_type": "code",
   "execution_count": 155,
   "metadata": {},
   "outputs": [
    {
     "data": {
      "image/png": "[encoded data removed]",
      "text/plain": [
       "<Figure size 720x2880 with 21 Axes>"
      ]
     },
     "metadata": {
      "needs_background": "light"
     },
     "output_type": "display_data"
    }
   ],
   "source": [
    "type(p6)\n",
    "#p6.index.values\n",
    "#p6.index.get_level_values(1)\n",
    "#p6.index[0][0]\n",
    "#p6.index[1][0]\n",
    "#p6.values\n",
    "\n",
    "# https://matplotlib.org/3.1.1/api/_as_gen/matplotlib.pyplot.figure.html\n",
    "plt.rcParams['figure.figsize'] = [10, 40]\n",
    "\n",
    "unique_genres = joined_df[\"genre\"].unique()\n",
    "\n",
    "#unique_genres\n",
    "\n",
    "number_of = len(unique_genres)\n",
    "\n",
    "#number_of\n",
    "\n",
    "#fig, ax = plt.subplots(number_of, 1, sharex='col', sharey='row')\n",
    "\n",
    "fig = plt.figure()\n",
    "\n",
    "#fig.suptitle('This is a somewhat long figure title', fontsize=12)\n",
    "#fig.xlabel('month')\n",
    "#fig.ylabel('number of')\n",
    "    \n",
    "fig.subplots_adjust(hspace=0.75, wspace=0.1)\n",
    "\n",
    "for v in range(0, number_of):\n",
    "    #pass\n",
    "    dp = joined_df[joined_df[\"genre\"] == unique_genres[v]].groupby(\"release_month\").size()\n",
    "    #print(unique_genres[v])\n",
    "    ax = fig.add_subplot(number_of, 1, v+1, label=unique_genres[v]);\n",
    "    ax.bar(dp.index.values, dp.values);\n",
    "    \n",
    "    # https://matplotlib.org/3.1.1/gallery/subplots_axes_and_figures/figure_title.html\n",
    "    ax.set_title(unique_genres[v])\n",
    "    \n",
    "    #dp.index.values\n",
    "    #dp.values\n",
    "\n",
    "#ax.text(0.5, 0.5, \"Month\", fontsize=18, ha='center');\n",
    "\n",
    "plt.show();    \n",
    "#ax = plt.subplot()\n",
    "#dp = joined_df[joined_df[\"release_month\"] == 10].groupby(\"genre\").size()\n",
    "#ax.bar(dp.index.values, dp.values);\n",
    "\n",
    "#fig = plt.figure(figsize=(18, 16), dpi= 80, facecolor='w', edgecolor='k')\n",
    "\n",
    "#fig, axes = plt.subplots(nrows=20, ncols=1)\n",
    "\n",
    "# https://jakevdp.github.io/PythonDataScienceHandbook/04.08-multiple-subplots.html\n",
    "# https://jakevdp.github.io/PythonDataScienceHandbook/04.08-multiple-subplots.html\n",
    "\n",
    "#fig = plt.figure()\n",
    "#fig.subplots_adjust(hspace=0.8, wspace=0.8)\n",
    "#p6.unstack(level=0).plot(kind='bar', subplots=True);\n",
    "\n",
    "#fig = plt.figure();\n",
    "#fig.subplots_adjust(hspace=1.0, wspace=0.2);\n",
    "#for i in range(1, 13):\n",
    "#    ax = fig.add_subplot(12, 1, i);\n",
    "#    dp = joined_df[joined_df[\"release_month\"] == i].groupby(\"genre\").size()\n",
    "#    # plt.barh(p3.index.values, p3.values);\n",
    "#    ax.bar(dp.index.values, dp.values);\n",
    "#    #ax.text(0.5, 0.5, str((6, 2, i)), fontsize=18, ha='center');\n",
    "    \n",
    "#plt.tight_layout();\n",
    "\n",
    "#plt.bar(p6.index.get_level_values(0), p6.values);\n",
    "#plt.bar(p6.index.get_level_values(1), p6.values);\n",
    "\n",
    "\n",
    "#plt.bar(p6.index.get_level_values(1), p6.values);\n",
    "\n",
    "#genre_counts = joined_df[\"genre\"].value_counts()\n",
    "\n",
    "#plt.barh(genre_counts.index.values, genre_counts.values);\n",
    "\n"
   ]
  },
  {
   "cell_type": "markdown",
   "metadata": {},
   "source": [
    "### Research Question 2  (Replace this header name!)"
   ]
  },
  {
   "cell_type": "code",
   "execution_count": null,
   "metadata": {
    "collapsed": true
   },
   "outputs": [],
   "source": [
    "# Continue to explore the data to address your additional research\n",
    "#   questions. Add more headers as needed if you have more questions to\n",
    "#   investigate.\n"
   ]
  },
  {
   "cell_type": "markdown",
   "metadata": {},
   "source": [
    "<a id='conclusions'></a>\n",
    "## Conclusions\n",
    "\n",
    "> **Tip**: Finally, summarize your findings and the results that have been performed. Make sure that you are clear with regards to the limitations of your exploration. If you haven't done any statistical tests, do not imply any statistical conclusions. And make sure you avoid implying causation from correlation!\n",
    "\n",
    "> **Tip**: Once you are satisfied with your work, you should save a copy of the report in HTML or PDF form via the **File** > **Download as** submenu. Before exporting your report, check over it to make sure that the flow of the report is complete. You should probably remove all of the \"Tip\" quotes like this one so that the presentation is as tidy as possible. Congratulations!"
   ]
  },
  {
   "cell_type": "code",
   "execution_count": null,
   "metadata": {
    "collapsed": true
   },
   "outputs": [],
   "source": []
  }
 ],
 "metadata": {
  "kernelspec": {
   "display_name": "Python 3",
   "language": "python",
   "name": "python3"
  },
  "language_info": {
   "codemirror_mode": {
    "name": "ipython",
    "version": 3
   },
   "file_extension": ".py",
   "mimetype": "text/x-python",
   "name": "python",
   "nbconvert_exporter": "python",
   "pygments_lexer": "ipython3",
   "version": "3.7.3"
  }
 },
 "nbformat": 4,
 "nbformat_minor": 2
}
